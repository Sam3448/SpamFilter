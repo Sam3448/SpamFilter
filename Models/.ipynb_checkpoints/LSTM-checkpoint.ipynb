{
 "cells": [
  {
   "cell_type": "code",
   "execution_count": 28,
   "metadata": {
    "collapsed": true
   },
   "outputs": [],
   "source": [
    "import tensorflow as tf\n",
    "import numpy as np\n",
    "import os\n",
    "from distutils.version import LooseVersion\n",
    "import warnings\n",
    "from collections import Counter"
   ]
  },
  {
   "cell_type": "code",
   "execution_count": 29,
   "metadata": {
    "collapsed": true
   },
   "outputs": [],
   "source": [
    "import numpy as np\n",
    "np.set_printoptions(threshold = 1e6)"
   ]
  },
  {
   "cell_type": "code",
   "execution_count": 30,
   "metadata": {
    "collapsed": true
   },
   "outputs": [],
   "source": [
    "dataset = 'sms'\n",
    "trainingSection = 1\n",
    "\n",
    "trainDataDir = '/Users/SamZhang/Documents/Capstone/dataset/' + dataset + '/train'\n",
    "posTrain = trainDataDir + '/spam/' + str(trainingSection) + '/' + dataset + '_train.spam'\n",
    "negTrain = trainDataDir + '/ham/' + str(trainingSection) + '/' + dataset + '_train.ham'\n",
    "\n",
    "testDataDir = '/Users/SamZhang/Documents/Capstone/dataset/' + dataset + '/test'\n",
    "posTest = testDataDir + '/spam/' + str(trainingSection) + '/' + dataset + '_test.spam'\n",
    "negTest = testDataDir + '/ham/' + str(trainingSection) + '/' + dataset + '_test.ham'\n",
    "\n",
    "saveDataPath = '/Users/SamZhang/Documents/Capstone/Models/runs/lstmmodel/' + str(trainingSection) + '/'"
   ]
  },
  {
   "cell_type": "code",
   "execution_count": 31,
   "metadata": {
    "collapsed": true
   },
   "outputs": [],
   "source": [
    "lstm_size = 256\n",
    "lstm_layers = 2\n",
    "batch_size = 128\n",
    "learning_rate = 0.001\n",
    "drop_out = 0.5\n",
    "epochs = 30\n",
    "embed_size = 128 \n",
    "evaluate_every = 100\n",
    "sequence_len = 200\n",
    "split_frac = 0.8"
   ]
  },
  {
   "cell_type": "markdown",
   "metadata": {},
   "source": [
    "# Processing data"
   ]
  },
  {
   "cell_type": "code",
   "execution_count": 32,
   "metadata": {
    "collapsed": true
   },
   "outputs": [],
   "source": [
    "def getTextLabel(posFilePath, negFilePath):\n",
    "    import fileinput\n",
    "    from string import punctuation\n",
    "\n",
    "    labels = []\n",
    "    texts = []\n",
    "    for line in fileinput.input(posFilePath):\n",
    "        line = line.lower()\n",
    "        line = ''.join([c for c in line if c not in punctuation])\n",
    "        if len(line) > 0:\n",
    "            texts.append(line)\n",
    "            labels.append(1)\n",
    "\n",
    "    for line in fileinput.input(negFilePath):\n",
    "        line = line.lower()\n",
    "        line = ''.join([c for c in line if c not in punctuation])\n",
    "        if len(line) > 0:\n",
    "            texts.append(line)\n",
    "            labels.append(0)\n",
    "    labels = np.array(labels)\n",
    "    \n",
    "    return texts, labels"
   ]
  },
  {
   "cell_type": "code",
   "execution_count": 33,
   "metadata": {
    "collapsed": true
   },
   "outputs": [],
   "source": [
    "def getVocabToInt(texts):\n",
    "    wordSet = ' '.join(texts).split()\n",
    "    counts = Counter(wordSet)\n",
    "    vocab = sorted(counts, key=counts.get, reverse = True)\n",
    "\n",
    "    vocab_to_int = {word: ii for ii, word in enumerate(vocab)}\n",
    "    vocab_size = len(vocab_to_int)\n",
    "    return vocab_to_int"
   ]
  },
  {
   "cell_type": "code",
   "execution_count": 34,
   "metadata": {
    "collapsed": true
   },
   "outputs": [],
   "source": [
    "def getFeatures(texts, labels, vocab_to_int):\n",
    "    texts_in_int = []\n",
    "    for line in texts:\n",
    "        texts_in_int.append([vocab_to_int[word] for word in line.split()])\n",
    "\n",
    "    text_lens = Counter([len(x) for x in texts_in_int])\n",
    "    non_zero_idx = [ii for ii, texts in enumerate(texts_in_int) if len(texts) != 0] # all data that len > 0\n",
    "\n",
    "    texts_in_int = [texts_in_int[ii] for  ii in non_zero_idx] #all sentences\n",
    "    labels = np.array([labels[ii] for ii in non_zero_idx]) #0 for ham, 1 for spam\n",
    "    features = np.zeros((len(texts_in_int), sequence_len), dtype=int)\n",
    "    for i, row in enumerate(texts_in_int):\n",
    "         features[i, -len(row):] = np.array(row)[:sequence_len]\n",
    "    \n",
    "    return features"
   ]
  },
  {
   "cell_type": "code",
   "execution_count": 35,
   "metadata": {
    "collapsed": true
   },
   "outputs": [],
   "source": [
    "import random\n",
    "def shuffle(texts, labels):\n",
    "    curSize = len(texts)\n",
    "    for i in range(curSize):\n",
    "        randIndex = random.randint(0, curSize - 1)\n",
    "        tempText = texts[randIndex]\n",
    "        texts[randIndex] = texts[i]\n",
    "        texts[i] = tempText\n",
    "        \n",
    "        tempLabel = labels[randIndex]\n",
    "        labels[randIndex] = labels[i]\n",
    "        labels[i] = tempLabel"
   ]
  },
  {
   "cell_type": "code",
   "execution_count": 36,
   "metadata": {},
   "outputs": [],
   "source": [
    "texts_train, labels_train = getTextLabel(posTrain, negTrain)\n",
    "shuffle(texts_train, labels_train)\n",
    "texts_test, labels_test = getTextLabel(posTest, negTest)\n",
    "\n",
    "texts = texts_train + texts_test\n",
    "vocab_to_int = getVocabToInt(texts)\n",
    "vocab_size = len(vocab_to_int)\n",
    "\n",
    "features_train = getFeatures(texts_train, labels_train, vocab_to_int)"
   ]
  },
  {
   "cell_type": "markdown",
   "metadata": {},
   "source": [
    "# Seperate Training, Validation, Test set"
   ]
  },
  {
   "cell_type": "code",
   "execution_count": 37,
   "metadata": {},
   "outputs": [
    {
     "name": "stdout",
     "output_type": "stream",
     "text": [
      "\t\t\tFeature Shapes:\n",
      "Train set: \t\t(446, 200) \n",
      "Validation set: \t(112, 200)\n"
     ]
    }
   ],
   "source": [
    "split_idx = int(len(features_train)*split_frac)\n",
    "train_x, val_x = features_train[:split_idx], features_train[split_idx:]\n",
    "train_y, val_y = labels_train[:split_idx], labels_train[split_idx:]\n",
    "\n",
    "print(\"\\t\\t\\tFeature Shapes:\")\n",
    "print(\"Train set: \\t\\t{}\".format(train_x.shape), \n",
    "      \"\\nValidation set: \\t{}\".format(val_x.shape))"
   ]
  },
  {
   "cell_type": "markdown",
   "metadata": {},
   "source": [
    "# Building LSTM "
   ]
  },
  {
   "cell_type": "code",
   "execution_count": 38,
   "metadata": {
    "collapsed": true
   },
   "outputs": [],
   "source": [
    "# Create the graph object\n",
    "graph = tf.Graph()\n",
    "# Add nodes to the graph\n",
    "with graph.as_default():\n",
    "    inputs_ = tf.placeholder(tf.int32, [None, None], name='inputs')\n",
    "    labels_ = tf.placeholder(tf.int32, [None, None], name='labels')\n",
    "    keep_prob = tf.placeholder(tf.float32, name='keep_prob')"
   ]
  },
  {
   "cell_type": "code",
   "execution_count": 39,
   "metadata": {
    "collapsed": true
   },
   "outputs": [],
   "source": [
    "# Size of the embedding vectors (number of units in the embedding layer)\n",
    "with graph.as_default():\n",
    "    embedding = tf.Variable(tf.random_uniform((vocab_size, embed_size), -1, 1)) #generate random number from [-1, 1]\n",
    "    embed = tf.nn.embedding_lookup(embedding, inputs_)"
   ]
  },
  {
   "cell_type": "code",
   "execution_count": 40,
   "metadata": {
    "collapsed": true
   },
   "outputs": [],
   "source": [
    "#building cell\n",
    "with graph.as_default():\n",
    "    #define lstm cell\n",
    "    def lstm_cell():\n",
    "        cell = tf.contrib.rnn.LSTMCell(lstm_size, \n",
    "                                       initializer = tf.random_uniform_initializer(-0.1, 0.1, seed=2),\n",
    "                                       state_is_tuple = True,\n",
    "                                      reuse=tf.get_variable_scope().reuse)\n",
    "        drop = tf.contrib.rnn.DropoutWrapper(cell, output_keep_prob = keep_prob)\n",
    "        return drop\n",
    "    \n",
    "    stack_cells = tf.contrib.rnn.MultiRNNCell([lstm_cell() for _ in range(lstm_layers)])\n",
    "    \n",
    "    initial_state = state = stack_cells.zero_state(batch_size, tf.float32)"
   ]
  },
  {
   "cell_type": "code",
   "execution_count": 41,
   "metadata": {
    "collapsed": true
   },
   "outputs": [],
   "source": [
    "with graph.as_default():\n",
    "    outputs, final_state = tf.nn.dynamic_rnn(stack_cells, embed, initial_state=initial_state)\n",
    "    predictions = tf.contrib.layers.fully_connected(outputs[:, -1], 1, activation_fn=tf.sigmoid)\n",
    "    \n",
    "    cost = tf.losses.mean_squared_error(labels_, predictions)\n",
    "    optimizer = tf.train.AdamOptimizer(learning_rate).minimize(cost)"
   ]
  },
  {
   "cell_type": "code",
   "execution_count": 42,
   "metadata": {
    "collapsed": true
   },
   "outputs": [],
   "source": [
    "with graph.as_default():\n",
    "    correct_pred = tf.equal(tf.cast(tf.round(predictions), tf.int32), labels_)\n",
    "    accuracy = tf.reduce_mean(tf.cast(correct_pred, tf.float32))"
   ]
  },
  {
   "cell_type": "code",
   "execution_count": 43,
   "metadata": {
    "collapsed": true
   },
   "outputs": [],
   "source": [
    "def get_batches(x, y, batch_size=100):\n",
    "    n_batches = len(x)//batch_size\n",
    "    x, y = x[:n_batches*batch_size], y[:n_batches*batch_size]\n",
    "    for ii in range(0, len(x), batch_size):\n",
    "        yield x[ii:ii+batch_size], y[ii:ii+batch_size]"
   ]
  },
  {
   "cell_type": "code",
   "execution_count": 44,
   "metadata": {
    "collapsed": true
   },
   "outputs": [],
   "source": [
    "def get_batches_test(text, x, y, batch_size=100):\n",
    "    n_batches = len(x)//batch_size\n",
    "    text, x, y = text[:n_batches*batch_size], x[:n_batches*batch_size], y[:n_batches*batch_size]\n",
    "    for ii in range(0, len(x), batch_size):\n",
    "        yield text[ii:ii+batch_size], x[ii:ii+batch_size], y[ii:ii+batch_size]"
   ]
  },
  {
   "cell_type": "code",
   "execution_count": 45,
   "metadata": {},
   "outputs": [
    {
     "name": "stdout",
     "output_type": "stream",
     "text": [
      "Epoch: 1/30 Iteration: 5 Train loss: 0.083\n",
      "Epoch: 3/30 Iteration: 10 Train loss: 0.060\n",
      "Epoch: 4/30 Iteration: 15 Train loss: 0.047\n",
      "Epoch: 6/30 Iteration: 20 Train loss: 0.038\n",
      "Epoch: 8/30 Iteration: 25 Train loss: 0.004\n",
      "Epoch: 9/30 Iteration: 30 Train loss: 0.008\n",
      "Epoch: 11/30 Iteration: 35 Train loss: 0.016\n",
      "Epoch: 13/30 Iteration: 40 Train loss: 0.000\n",
      "Epoch: 14/30 Iteration: 45 Train loss: 0.008\n",
      "Epoch: 16/30 Iteration: 50 Train loss: 0.007\n",
      "Epoch: 18/30 Iteration: 55 Train loss: 0.000\n",
      "Epoch: 19/30 Iteration: 60 Train loss: 0.006\n",
      "Epoch: 21/30 Iteration: 65 Train loss: 0.008\n",
      "Epoch: 23/30 Iteration: 70 Train loss: 0.002\n",
      "Epoch: 24/30 Iteration: 75 Train loss: 0.002\n",
      "Epoch: 26/30 Iteration: 80 Train loss: 0.001\n",
      "Epoch: 28/30 Iteration: 85 Train loss: 0.000\n",
      "Epoch: 29/30 Iteration: 90 Train loss: 0.001\n"
     ]
    }
   ],
   "source": [
    "with graph.as_default():\n",
    "    saver = tf.train.Saver()\n",
    "\n",
    "with tf.Session(graph=graph) as sess:\n",
    "    sess.run(tf.global_variables_initializer()) \n",
    "    iteration = 1\n",
    "    for e in range(epochs):\n",
    "        state = sess.run(initial_state)\n",
    "        \n",
    "        for ii, (x, y) in enumerate(get_batches(train_x, train_y, batch_size), 1):\n",
    "            feed = {inputs_: x,\n",
    "                    labels_: y[:, None],\n",
    "                    keep_prob: drop_out,\n",
    "                    initial_state: state}\n",
    "            loss, state, _ = sess.run([cost, final_state, optimizer], feed_dict=feed)\n",
    "            \n",
    "            if iteration%5==0:\n",
    "                print(\"Epoch: {}/{}\".format(e, epochs),\n",
    "                      \"Iteration: {}\".format(iteration),\n",
    "                      \"Train loss: {:.3f}\".format(loss))\n",
    "\n",
    "            if iteration%evaluate_every ==0:\n",
    "                val_acc = []\n",
    "                val_state = sess.run(stack_cells.zero_state(batch_size, tf.float32))\n",
    "                for x, y in get_batches(val_x, val_y, batch_size):\n",
    "                    feed = {inputs_: x,\n",
    "                            labels_: y[:, None],\n",
    "                            keep_prob: 1,\n",
    "                            initial_state: val_state}\n",
    "                    batch_acc, val_state = sess.run([accuracy, final_state], feed_dict=feed)\n",
    "                    val_acc.append(batch_acc)\n",
    "                print(\"Val acc: {:.3f}\".format(np.mean(val_acc)))\n",
    "            iteration +=1\n",
    "    saver.save(sess, saveDataPath + \"sentiment.ckpt\")"
   ]
  },
  {
   "cell_type": "markdown",
   "metadata": {},
   "source": [
    "# Testing model"
   ]
  },
  {
   "cell_type": "code",
   "execution_count": 46,
   "metadata": {
    "collapsed": true
   },
   "outputs": [],
   "source": [
    "import csv"
   ]
  },
  {
   "cell_type": "code",
   "execution_count": 47,
   "metadata": {},
   "outputs": [
    {
     "name": "stdout",
     "output_type": "stream",
     "text": [
      "[   0    0    0    0    0    0    0    0    0    0    0    0    0    0\n",
      "    0    0    0    0    0    0    0    0    0    0    0    0    0    0\n",
      "    0    0    0    0    0    0    0    0    0    0    0    0    0    0\n",
      "    0    0    0    0    0    0    0    0    0    0    0    0    0    0\n",
      "    0    0    0    0    0    0    0    0    0    0    0    0    0    0\n",
      "    0    0    0    0    0    0    0    0    0    0    0    0    0    0\n",
      "    0    0    0    0    0    0    0    0    0    0    0    0    0    0\n",
      "    0    0    0    0    0    0    0    0    0    0    0    0    0    0\n",
      "    0    0    0    0    0    0    0    0    0    0    0    0    0    0\n",
      "    0    0    0    0    0    0    0    0    0    0    0    0    0    0\n",
      "    0    0    0    0    0    0    0    0    0    0    0    0    0    0\n",
      "    0    0    0    0    0    0    0    0    0    0    0    0    0    0\n",
      "  886  120   67 1753   40   99  193  600   21    6   38  346   86  377\n",
      "   55  110  398    2   41   11   13   84 1903   46  352 1080 9310    0\n",
      "   69  449    0 3221]\n"
     ]
    }
   ],
   "source": [
    "features_test = getFeatures(texts_test, labels_test, vocab_to_int)\n",
    "print(features_test[0])"
   ]
  },
  {
   "cell_type": "code",
   "execution_count": 48,
   "metadata": {},
   "outputs": [
    {
     "name": "stdout",
     "output_type": "stream",
     "text": [
      "INFO:tensorflow:Restoring parameters from /Users/SamZhang/Documents/Capstone/Models/runs/lstmmodel/1/sentiment.ckpt\n",
      "Test accuracy: 0.931\n"
     ]
    }
   ],
   "source": [
    "test_acc = []\n",
    "title = np.column_stack(('text', 'prediction', 'label'))\n",
    "out_path = saveDataPath + 'prediction.csv'\n",
    "\n",
    "with open(out_path, 'w') as f:\n",
    "    csv.writer(f).writerows(title)\n",
    "    \n",
    "    with tf.Session(graph=graph) as sess:\n",
    "        saver.restore(sess, tf.train.latest_checkpoint(saveDataPath))\n",
    "        test_state = sess.run(stack_cells.zero_state(batch_size, tf.float32))\n",
    "        for ii, (text, x, y) in enumerate(get_batches_test(texts_test, features_test, labels_test, batch_size), 1):\n",
    "            feed = {inputs_: x,\n",
    "                    labels_: y[:, None],\n",
    "                    keep_prob: 1,\n",
    "                    initial_state: test_state}\n",
    "            batch_acc, test_state, batch_cor = sess.run([accuracy, final_state, correct_pred], feed_dict=feed)\n",
    "            test_acc.append(batch_acc)\n",
    "            predict_label = []\n",
    "            for i in range(len(y)):\n",
    "                predict_label.append(y[i] if batch_cor[i] == True else 1 - y[i])\n",
    "            csv.writer(f).writerows(np.column_stack((np.array(text), predict_label, y)))\n",
    "        print(\"Test accuracy: {:.3f}\".format(np.mean(test_acc)))"
   ]
  },
  {
   "cell_type": "markdown",
   "metadata": {},
   "source": [
    "# Evaluation and Noise Reduction"
   ]
  },
  {
   "cell_type": "code",
   "execution_count": 51,
   "metadata": {},
   "outputs": [
    {
     "name": "stdout",
     "output_type": "stream",
     "text": [
      "362 33 4287 310\n",
      "accuracy : 0.931 \n",
      "precision : 0.916 \n",
      "recall : 0.539 \n",
      "f1 : 0.679 \n",
      "\n",
      "327 2 4318 345\n",
      "accuracy : 0.930 \n",
      "precision : 0.994 \n",
      "recall : 0.487 \n",
      "f1 : 0.653 \n",
      "\n"
     ]
    }
   ],
   "source": [
    "import ES_interface as esi\n",
    "\n",
    "esi.metric(dataset + '_' + str(trainingSection), saveDataPath + 'prediction.csv')"
   ]
  }
 ],
 "metadata": {
  "kernelspec": {
   "display_name": "Python 3",
   "language": "python",
   "name": "python3"
  },
  "language_info": {
   "codemirror_mode": {
    "name": "ipython",
    "version": 3
   },
   "file_extension": ".py",
   "mimetype": "text/x-python",
   "name": "python",
   "nbconvert_exporter": "python",
   "pygments_lexer": "ipython3",
   "version": "3.5.0"
  }
 },
 "nbformat": 4,
 "nbformat_minor": 2
}
