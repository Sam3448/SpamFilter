{
 "cells": [
  {
   "cell_type": "code",
   "execution_count": 1,
   "metadata": {
    "collapsed": true
   },
   "outputs": [],
   "source": [
    "import tensorflow as tf\n",
    "import numpy as np\n",
    "import os\n",
    "from distutils.version import LooseVersion\n",
    "import warnings\n",
    "from collections import Counter\n",
    "import csv"
   ]
  },
  {
   "cell_type": "code",
   "execution_count": 2,
   "metadata": {
    "collapsed": true
   },
   "outputs": [],
   "source": [
    "import numpy as np\n",
    "np.set_printoptions(threshold = 1e6)"
   ]
  },
  {
   "cell_type": "code",
   "execution_count": 3,
   "metadata": {},
   "outputs": [],
   "source": [
    "dataset = 'sms'\n",
    "trainingSection = 7\n",
    "\n",
    "trainDataDir = '/Users/SamZhang/Documents/Capstone/dataset/' + dataset + '/train'\n",
    "posTrain = trainDataDir + '/spam/' + str(trainingSection) + '/' + dataset + '_train.spam'\n",
    "negTrain = trainDataDir + '/ham/' + str(trainingSection) + '/' + dataset + '_train.ham'\n",
    "\n",
    "testDataDir = '/Users/SamZhang/Documents/Capstone/dataset/' + dataset + '/test'\n",
    "posTest = testDataDir + '/spam/' + str(trainingSection) + '/' + dataset + '_test.spam'\n",
    "negTest = testDataDir + '/ham/' + str(trainingSection) + '/' + dataset + '_test.ham'\n",
    "\n",
    "saveDataPath = '/Users/SamZhang/Documents/Capstone/Models/runs/lstmmodel/'+ dataset + '/' + str(trainingSection) + '/'"
   ]
  },
  {
   "cell_type": "code",
   "execution_count": 4,
   "metadata": {
    "collapsed": true
   },
   "outputs": [],
   "source": [
    "lstm_size = 256\n",
    "lstm_layers = 2\n",
    "batch_size = 128\n",
    "learning_rate = 0.001\n",
    "drop_out = 0.5\n",
    "epochs = 20\n",
    "embed_size = 128 \n",
    "evaluate_every = 100\n",
    "sequence_len = 200\n",
    "split_frac = 0.8"
   ]
  },
  {
   "cell_type": "markdown",
   "metadata": {},
   "source": [
    "# Processing data"
   ]
  },
  {
   "cell_type": "code",
   "execution_count": 5,
   "metadata": {
    "collapsed": true
   },
   "outputs": [],
   "source": [
    "def getTextLabel(posFilePath, negFilePath):\n",
    "    import fileinput\n",
    "    from string import punctuation\n",
    "\n",
    "    labels = []\n",
    "    texts = []\n",
    "    for line in fileinput.input(posFilePath):\n",
    "        line = line.lower()\n",
    "        line = ''.join([c for c in line if c not in punctuation])\n",
    "        if len(line) > 0:\n",
    "            texts.append(line)\n",
    "            labels.append(1)\n",
    "\n",
    "    for line in fileinput.input(negFilePath):\n",
    "        line = line.lower()\n",
    "        line = ''.join([c for c in line if c not in punctuation])\n",
    "        if len(line) > 0:\n",
    "            texts.append(line)\n",
    "            labels.append(0)\n",
    "    labels = np.array(labels)\n",
    "    \n",
    "    return texts, labels"
   ]
  },
  {
   "cell_type": "code",
   "execution_count": 6,
   "metadata": {
    "collapsed": true
   },
   "outputs": [],
   "source": [
    "def getVocabToInt(texts):\n",
    "    wordSet = ' '.join(texts).split()\n",
    "    counts = Counter(wordSet)\n",
    "    vocab = sorted(counts, key=counts.get, reverse = True)\n",
    "\n",
    "    vocab_to_int = {word: ii for ii, word in enumerate(vocab)}\n",
    "    vocab_size = len(vocab_to_int)\n",
    "    return vocab_to_int"
   ]
  },
  {
   "cell_type": "code",
   "execution_count": 7,
   "metadata": {
    "collapsed": true
   },
   "outputs": [],
   "source": [
    "def getFeatures(texts, labels, vocab_to_int):\n",
    "    texts_in_int = []\n",
    "    for line in texts:\n",
    "        texts_in_int.append([vocab_to_int[word] for word in line.split()])\n",
    "\n",
    "    text_lens = Counter([len(x) for x in texts_in_int])\n",
    "    non_zero_idx = [ii for ii, texts in enumerate(texts_in_int) if len(texts) != 0] # all data that len > 0\n",
    "\n",
    "    texts_in_int = [texts_in_int[ii] for  ii in non_zero_idx] #all sentences\n",
    "    labels = np.array([labels[ii] for ii in non_zero_idx]) #0 for ham, 1 for spam\n",
    "    features = np.zeros((len(texts_in_int), sequence_len), dtype=int)\n",
    "    for i, row in enumerate(texts_in_int):\n",
    "         features[i, -len(row):] = np.array(row)[:sequence_len]\n",
    "    \n",
    "    return features"
   ]
  },
  {
   "cell_type": "code",
   "execution_count": 8,
   "metadata": {
    "collapsed": true
   },
   "outputs": [],
   "source": [
    "import random\n",
    "def shuffle(texts, labels):\n",
    "    curSize = len(texts)\n",
    "    for i in range(curSize):\n",
    "        randIndex = random.randint(0, curSize - 1)\n",
    "        tempText = texts[randIndex]\n",
    "        texts[randIndex] = texts[i]\n",
    "        texts[i] = tempText\n",
    "        \n",
    "        tempLabel = labels[randIndex]\n",
    "        labels[randIndex] = labels[i]\n",
    "        labels[i] = tempLabel"
   ]
  },
  {
   "cell_type": "code",
   "execution_count": 9,
   "metadata": {
    "collapsed": true
   },
   "outputs": [],
   "source": [
    "texts_train, labels_train = getTextLabel(posTrain, negTrain)\n",
    "shuffle(texts_train, labels_train)\n",
    "texts_test, labels_test = getTextLabel(posTest, negTest)\n",
    "\n",
    "texts = texts_train + texts_test\n",
    "vocab_to_int = getVocabToInt(texts)\n",
    "vocab_size = len(vocab_to_int)\n",
    "\n",
    "features_train = getFeatures(texts_train, labels_train, vocab_to_int)"
   ]
  },
  {
   "cell_type": "markdown",
   "metadata": {},
   "source": [
    "# Seperate Training, Validation, Test set"
   ]
  },
  {
   "cell_type": "code",
   "execution_count": 10,
   "metadata": {},
   "outputs": [
    {
     "name": "stdout",
     "output_type": "stream",
     "text": [
      "\t\t\tFeature Shapes:\n",
      "Train set: \t\t(3124, 200) \n",
      "Validation set: \t(781, 200)\n"
     ]
    }
   ],
   "source": [
    "split_idx = int(len(features_train)*split_frac)\n",
    "train_x, val_x = features_train[:split_idx], features_train[split_idx:]\n",
    "train_y, val_y = labels_train[:split_idx], labels_train[split_idx:]\n",
    "\n",
    "print(\"\\t\\t\\tFeature Shapes:\")\n",
    "print(\"Train set: \\t\\t{}\".format(train_x.shape), \n",
    "      \"\\nValidation set: \\t{}\".format(val_x.shape))"
   ]
  },
  {
   "cell_type": "markdown",
   "metadata": {},
   "source": [
    "# Building LSTM "
   ]
  },
  {
   "cell_type": "code",
   "execution_count": 11,
   "metadata": {
    "collapsed": true
   },
   "outputs": [],
   "source": [
    "# Create the graph object\n",
    "graph = tf.Graph()\n",
    "# Add nodes to the graph\n",
    "with graph.as_default():\n",
    "    inputs_ = tf.placeholder(tf.int32, [None, None], name='inputs')\n",
    "    labels_ = tf.placeholder(tf.int32, [None, None], name='labels')\n",
    "    keep_prob = tf.placeholder(tf.float32, name='keep_prob')"
   ]
  },
  {
   "cell_type": "code",
   "execution_count": 12,
   "metadata": {
    "collapsed": true
   },
   "outputs": [],
   "source": [
    "# Size of the embedding vectors (number of units in the embedding layer)\n",
    "with graph.as_default():\n",
    "    embedding = tf.Variable(tf.random_uniform((vocab_size, embed_size), -1, 1)) #generate random number from [-1, 1]\n",
    "    embed = tf.nn.embedding_lookup(embedding, inputs_)"
   ]
  },
  {
   "cell_type": "code",
   "execution_count": 13,
   "metadata": {
    "collapsed": true
   },
   "outputs": [],
   "source": [
    "#building cell\n",
    "with graph.as_default():\n",
    "    #define lstm cell\n",
    "    def lstm_cell():\n",
    "        cell = tf.contrib.rnn.LSTMCell(lstm_size, \n",
    "                                       initializer = tf.random_uniform_initializer(-0.1, 0.1, seed=2),\n",
    "                                       state_is_tuple = True,\n",
    "                                      reuse=tf.get_variable_scope().reuse)\n",
    "        drop = tf.contrib.rnn.DropoutWrapper(cell, output_keep_prob = keep_prob)\n",
    "        return drop\n",
    "    \n",
    "    stack_cells = tf.contrib.rnn.MultiRNNCell([lstm_cell() for _ in range(lstm_layers)])\n",
    "    \n",
    "    initial_state = state = stack_cells.zero_state(batch_size, tf.float32)"
   ]
  },
  {
   "cell_type": "code",
   "execution_count": 14,
   "metadata": {
    "collapsed": true
   },
   "outputs": [],
   "source": [
    "with graph.as_default():\n",
    "    outputs, final_state = tf.nn.dynamic_rnn(stack_cells, embed, initial_state=initial_state)\n",
    "    predictions = tf.contrib.layers.fully_connected(outputs[:, -1], 1, activation_fn=tf.sigmoid)\n",
    "    \n",
    "    cost = tf.losses.mean_squared_error(labels_, predictions)\n",
    "    optimizer = tf.train.AdamOptimizer(learning_rate).minimize(cost)"
   ]
  },
  {
   "cell_type": "code",
   "execution_count": 15,
   "metadata": {
    "collapsed": true
   },
   "outputs": [],
   "source": [
    "with graph.as_default():\n",
    "    correct_pred = tf.equal(tf.cast(tf.round(predictions), tf.int32), labels_)\n",
    "    accuracy = tf.reduce_mean(tf.cast(correct_pred, tf.float32))"
   ]
  },
  {
   "cell_type": "code",
   "execution_count": 16,
   "metadata": {
    "collapsed": true
   },
   "outputs": [],
   "source": [
    "def get_batches(x, y, batch_size=100):\n",
    "    n_batches = len(x)//batch_size\n",
    "    x, y = x[:n_batches*batch_size], y[:n_batches*batch_size]\n",
    "    for ii in range(0, len(x), batch_size):\n",
    "        yield x[ii:ii+batch_size], y[ii:ii+batch_size]"
   ]
  },
  {
   "cell_type": "code",
   "execution_count": 17,
   "metadata": {
    "collapsed": true
   },
   "outputs": [],
   "source": [
    "def get_batches_test(text, x, y, batch_size=100):\n",
    "    n_batches = len(x)//batch_size\n",
    "    text, x, y = text[:n_batches*batch_size], x[:n_batches*batch_size], y[:n_batches*batch_size]\n",
    "    for ii in range(0, len(x), batch_size):\n",
    "        yield text[ii:ii+batch_size], x[ii:ii+batch_size], y[ii:ii+batch_size]"
   ]
  },
  {
   "cell_type": "code",
   "execution_count": 18,
   "metadata": {
    "collapsed": true
   },
   "outputs": [],
   "source": [
    "with graph.as_default():\n",
    "    saver = tf.train.Saver()"
   ]
  },
  {
   "cell_type": "code",
   "execution_count": 18,
   "metadata": {
    "scrolled": false
   },
   "outputs": [
    {
     "name": "stdout",
     "output_type": "stream",
     "text": [
      "Epoch: 0/20 Iteration: 5 Train loss: 0.123\n",
      "Epoch: 0/20 Iteration: 10 Train loss: 0.070\n",
      "Epoch: 0/20 Iteration: 15 Train loss: 0.058\n",
      "Epoch: 0/20 Iteration: 20 Train loss: 0.068\n",
      "Epoch: 1/20 Iteration: 25 Train loss: 0.159\n",
      "Epoch: 1/20 Iteration: 30 Train loss: 0.136\n",
      "Epoch: 1/20 Iteration: 35 Train loss: 0.085\n",
      "Epoch: 1/20 Iteration: 40 Train loss: 0.127\n",
      "Epoch: 1/20 Iteration: 45 Train loss: 0.108\n",
      "Epoch: 2/20 Iteration: 50 Train loss: 0.117\n",
      "Epoch: 2/20 Iteration: 55 Train loss: 0.066\n",
      "Epoch: 2/20 Iteration: 60 Train loss: 0.045\n",
      "Epoch: 2/20 Iteration: 65 Train loss: 0.037\n",
      "Epoch: 2/20 Iteration: 70 Train loss: 0.171\n",
      "Epoch: 3/20 Iteration: 75 Train loss: 0.156\n",
      "Epoch: 3/20 Iteration: 80 Train loss: 0.042\n",
      "Epoch: 3/20 Iteration: 85 Train loss: 0.034\n",
      "Epoch: 3/20 Iteration: 90 Train loss: 0.027\n",
      "Epoch: 3/20 Iteration: 95 Train loss: 0.237\n",
      "Epoch: 4/20 Iteration: 100 Train loss: 0.031\n",
      "Val acc: 0.784\n",
      "Epoch: 4/20 Iteration: 105 Train loss: 0.016\n",
      "Epoch: 4/20 Iteration: 110 Train loss: 0.010\n",
      "Epoch: 4/20 Iteration: 115 Train loss: 0.018\n",
      "Epoch: 4/20 Iteration: 120 Train loss: 0.211\n",
      "Epoch: 5/20 Iteration: 125 Train loss: 0.040\n",
      "Epoch: 5/20 Iteration: 130 Train loss: 0.005\n",
      "Epoch: 5/20 Iteration: 135 Train loss: 0.017\n",
      "Epoch: 5/20 Iteration: 140 Train loss: 0.008\n",
      "Epoch: 6/20 Iteration: 145 Train loss: 0.021\n",
      "Epoch: 6/20 Iteration: 150 Train loss: 0.008\n",
      "Epoch: 6/20 Iteration: 155 Train loss: 0.014\n",
      "Epoch: 6/20 Iteration: 160 Train loss: 0.013\n",
      "Epoch: 6/20 Iteration: 165 Train loss: 0.104\n",
      "Epoch: 7/20 Iteration: 170 Train loss: 0.000\n",
      "Epoch: 7/20 Iteration: 175 Train loss: 0.008\n",
      "Epoch: 7/20 Iteration: 180 Train loss: 0.008\n",
      "Epoch: 7/20 Iteration: 185 Train loss: 0.010\n",
      "Epoch: 7/20 Iteration: 190 Train loss: 0.142\n",
      "Epoch: 8/20 Iteration: 195 Train loss: 0.022\n",
      "Epoch: 8/20 Iteration: 200 Train loss: 0.004\n",
      "Val acc: 0.780\n",
      "Epoch: 8/20 Iteration: 205 Train loss: 0.006\n",
      "Epoch: 8/20 Iteration: 210 Train loss: 0.002\n",
      "Epoch: 8/20 Iteration: 215 Train loss: 0.187\n",
      "Epoch: 9/20 Iteration: 220 Train loss: 0.011\n",
      "Epoch: 9/20 Iteration: 225 Train loss: 0.008\n",
      "Epoch: 9/20 Iteration: 230 Train loss: 0.008\n",
      "Epoch: 9/20 Iteration: 235 Train loss: 0.014\n",
      "Epoch: 9/20 Iteration: 240 Train loss: 0.164\n",
      "Epoch: 10/20 Iteration: 245 Train loss: 0.023\n",
      "Epoch: 10/20 Iteration: 250 Train loss: 0.001\n",
      "Epoch: 10/20 Iteration: 255 Train loss: 0.011\n",
      "Epoch: 10/20 Iteration: 260 Train loss: 0.008\n",
      "Epoch: 11/20 Iteration: 265 Train loss: 0.007\n",
      "Epoch: 11/20 Iteration: 270 Train loss: 0.004\n",
      "Epoch: 11/20 Iteration: 275 Train loss: 0.009\n",
      "Epoch: 11/20 Iteration: 280 Train loss: 0.007\n",
      "Epoch: 11/20 Iteration: 285 Train loss: 0.090\n",
      "Epoch: 12/20 Iteration: 290 Train loss: 0.001\n",
      "Epoch: 12/20 Iteration: 295 Train loss: 0.002\n",
      "Epoch: 12/20 Iteration: 300 Train loss: 0.001\n",
      "Val acc: 0.772\n",
      "Epoch: 12/20 Iteration: 305 Train loss: 0.008\n",
      "Epoch: 12/20 Iteration: 310 Train loss: 0.116\n",
      "Epoch: 13/20 Iteration: 315 Train loss: 0.013\n",
      "Epoch: 13/20 Iteration: 320 Train loss: 0.006\n",
      "Epoch: 13/20 Iteration: 325 Train loss: 0.001\n",
      "Epoch: 13/20 Iteration: 330 Train loss: 0.000\n",
      "Epoch: 13/20 Iteration: 335 Train loss: 0.157\n",
      "Epoch: 14/20 Iteration: 340 Train loss: 0.010\n",
      "Epoch: 14/20 Iteration: 345 Train loss: 0.001\n",
      "Epoch: 14/20 Iteration: 350 Train loss: 0.001\n",
      "Epoch: 14/20 Iteration: 355 Train loss: 0.007\n",
      "Epoch: 14/20 Iteration: 360 Train loss: 0.133\n",
      "Epoch: 15/20 Iteration: 365 Train loss: 0.009\n",
      "Epoch: 15/20 Iteration: 370 Train loss: 0.001\n",
      "Epoch: 15/20 Iteration: 375 Train loss: 0.000\n",
      "Epoch: 15/20 Iteration: 380 Train loss: 0.007\n",
      "Epoch: 16/20 Iteration: 385 Train loss: 0.002\n",
      "Epoch: 16/20 Iteration: 390 Train loss: 0.002\n",
      "Epoch: 16/20 Iteration: 395 Train loss: 0.001\n",
      "Epoch: 16/20 Iteration: 400 Train loss: 0.003\n",
      "Val acc: 0.779\n",
      "Epoch: 16/20 Iteration: 405 Train loss: 0.078\n",
      "Epoch: 17/20 Iteration: 410 Train loss: 0.001\n",
      "Epoch: 17/20 Iteration: 415 Train loss: 0.003\n",
      "Epoch: 17/20 Iteration: 420 Train loss: 0.000\n",
      "Epoch: 17/20 Iteration: 425 Train loss: 0.005\n",
      "Epoch: 17/20 Iteration: 430 Train loss: 0.111\n",
      "Epoch: 18/20 Iteration: 435 Train loss: 0.015\n",
      "Epoch: 18/20 Iteration: 440 Train loss: 0.002\n",
      "Epoch: 18/20 Iteration: 445 Train loss: 0.001\n",
      "Epoch: 18/20 Iteration: 450 Train loss: 0.000\n",
      "Epoch: 18/20 Iteration: 455 Train loss: 0.128\n",
      "Epoch: 19/20 Iteration: 460 Train loss: 0.001\n",
      "Epoch: 19/20 Iteration: 465 Train loss: 0.001\n",
      "Epoch: 19/20 Iteration: 470 Train loss: 0.000\n",
      "Epoch: 19/20 Iteration: 475 Train loss: 0.003\n",
      "Epoch: 19/20 Iteration: 480 Train loss: 0.110\n"
     ]
    }
   ],
   "source": [
    "with tf.Session(graph=graph) as sess:\n",
    "    sess.run(tf.global_variables_initializer()) \n",
    "    iteration = 1\n",
    "    for e in range(epochs):\n",
    "        state = sess.run(initial_state)\n",
    "        \n",
    "        for ii, (x, y) in enumerate(get_batches(train_x, train_y, batch_size), 1):\n",
    "            feed = {inputs_: x,\n",
    "                    labels_: y[:, None],\n",
    "                    keep_prob: drop_out,\n",
    "                    initial_state: state}\n",
    "            loss, state, _ = sess.run([cost, final_state, optimizer], feed_dict=feed)\n",
    "            \n",
    "            if iteration%5==0:\n",
    "                print(\"Epoch: {}/{}\".format(e, epochs),\n",
    "                      \"Iteration: {}\".format(iteration),\n",
    "                      \"Train loss: {:.3f}\".format(loss))\n",
    "\n",
    "            if iteration%evaluate_every ==0:\n",
    "                val_acc = []\n",
    "                val_state = sess.run(stack_cells.zero_state(batch_size, tf.float32))\n",
    "                for x, y in get_batches(val_x, val_y, batch_size):\n",
    "                    feed = {inputs_: x,\n",
    "                            labels_: y[:, None],\n",
    "                            keep_prob: 1,\n",
    "                            initial_state: val_state}\n",
    "                    batch_acc, val_state = sess.run([accuracy, final_state], feed_dict=feed)\n",
    "                    val_acc.append(batch_acc)\n",
    "                print(\"Val acc: {:.3f}\".format(np.mean(val_acc)))\n",
    "            iteration +=1\n",
    "    saver.save(sess, saveDataPath + \"sentiment.ckpt\")"
   ]
  },
  {
   "cell_type": "markdown",
   "metadata": {},
   "source": [
    "# Testing model"
   ]
  },
  {
   "cell_type": "code",
   "execution_count": 20,
   "metadata": {},
   "outputs": [
    {
     "name": "stdout",
     "output_type": "stream",
     "text": [
      "[   0    0    0    0    0    0    0    0    0    0    0    0    0    0\n",
      "    0    0    0    0    0    0    0    0    0    0    0    0    0    0\n",
      "    0    0    0    0    0    0    0    0    0    0    0    0    0    0\n",
      "    0    0    0    0    0    0    0    0    0    0    0    0    0    0\n",
      "    0    0    0    0    0    0    0    0    0    0    0    0    0    0\n",
      "    0    0    0    0    0    0    0    0    0    0    0    0    0    0\n",
      "    0    0    0    0    0    0    0    0    0    0    0    0    0    0\n",
      "    0    0    0    0    0    0    0    0    0    0    0    0    0    0\n",
      "    0    0    0    0    0    0    0    0    0    0    0    0    0    0\n",
      "    0    0    0    0    0    0    0    0    0    0    0    0    0    0\n",
      "    0    0    0    0    0    0    0    0    0    0    0    0    0    0\n",
      "    0    0    0    0    0    0    0    0    0    0    0    0    0    0\n",
      "    0    0    0    0    0    0    0    0    0  992  241 4800   43  161\n",
      "    4 8069  650   79   30  898 1473    0 1146  888  992    0 1146 5253\n",
      " 2787 8859 8946  242]\n"
     ]
    }
   ],
   "source": [
    "features_test = getFeatures(texts_test, labels_test, vocab_to_int)\n",
    "print(features_test[0])"
   ]
  },
  {
   "cell_type": "code",
   "execution_count": 21,
   "metadata": {},
   "outputs": [
    {
     "name": "stdout",
     "output_type": "stream",
     "text": [
      "/Users/SamZhang/Documents/Capstone/Models/runs/lstmmodel/sms/7/\n",
      "INFO:tensorflow:Restoring parameters from /Users/SamZhang/Documents/Capstone/Models/runs/lstmmodel/sms/7/sentiment.ckpt\n",
      "Test accuracy: 0.846\n"
     ]
    }
   ],
   "source": [
    "test_acc = []\n",
    "title = np.column_stack(('text', 'prediction', 'label'))\n",
    "out_path = saveDataPath + 'prediction.csv'\n",
    "print(saveDataPath)\n",
    "\n",
    "with open(out_path, 'w') as f:\n",
    "    csv.writer(f).writerows(title)\n",
    "    \n",
    "    with tf.Session(graph=graph) as sess:\n",
    "        saver.restore(sess, tf.train.latest_checkpoint(saveDataPath))\n",
    "        test_state = sess.run(stack_cells.zero_state(batch_size, tf.float32))\n",
    "        for ii, (text, x, y) in enumerate(get_batches_test(texts_test, features_test, labels_test, batch_size), 1):\n",
    "            feed = {inputs_: x,\n",
    "                    labels_: y[:, None],\n",
    "                    keep_prob: 1,\n",
    "                    initial_state: test_state}\n",
    "            batch_acc, test_state, batch_cor = sess.run([accuracy, final_state, correct_pred], feed_dict=feed)\n",
    "            test_acc.append(batch_acc)\n",
    "            predict_label = []\n",
    "            for i in range(len(y)):\n",
    "                predict_label.append(y[i] if batch_cor[i] == True else 1 - y[i])\n",
    "            csv.writer(f).writerows(np.column_stack((np.array(text), predict_label, y)))\n",
    "        print(\"Test accuracy: {:.3f}\".format(np.mean(test_acc)))"
   ]
  },
  {
   "cell_type": "markdown",
   "metadata": {},
   "source": [
    "# Evaluation and Noise Reduction"
   ]
  },
  {
   "cell_type": "code",
   "execution_count": 22,
   "metadata": {},
   "outputs": [
    {
     "name": "stdout",
     "output_type": "stream",
     "text": [
      "43 77 1365 179\n",
      "accuracy : 0.846 \n",
      "precision : 0.358 \n",
      "recall : 0.194 \n",
      "f1 : 0.251 \n",
      "\n",
      "42 1 1441 180\n",
      "accuracy : 0.891 \n",
      "precision : 0.977 \n",
      "recall : 0.189 \n",
      "f1 : 0.317 \n",
      "\n"
     ]
    }
   ],
   "source": [
    "import ES_interface as esi\n",
    "\n",
    "esi.metric(dataset + '_' + str(trainingSection), saveDataPath + 'prediction.csv')"
   ]
  }
 ],
 "metadata": {
  "kernelspec": {
   "display_name": "Python 3",
   "language": "python",
   "name": "python3"
  },
  "language_info": {
   "codemirror_mode": {
    "name": "ipython",
    "version": 3
   },
   "file_extension": ".py",
   "mimetype": "text/x-python",
   "name": "python",
   "nbconvert_exporter": "python",
   "pygments_lexer": "ipython3",
   "version": "3.5.0"
  }
 },
 "nbformat": 4,
 "nbformat_minor": 2
}
