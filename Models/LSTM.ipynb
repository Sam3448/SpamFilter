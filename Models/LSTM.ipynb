{
 "cells": [
  {
   "cell_type": "code",
   "execution_count": 1,
   "metadata": {
    "collapsed": true
   },
   "outputs": [],
   "source": [
    "import tensorflow as tf\n",
    "import numpy as np\n",
    "import os\n",
    "from distutils.version import LooseVersion\n",
    "import warnings"
   ]
  },
  {
   "cell_type": "code",
   "execution_count": 21,
   "metadata": {
    "collapsed": true
   },
   "outputs": [],
   "source": [
    "dataSrc = '/Users/SamZhang/Documents/Capstone/dataset/SMS.txt'\n",
    "saveDataPath = '/Users/SamZhang/Documents/Capstone/Models/runs/lstmmodel/'"
   ]
  },
  {
   "cell_type": "code",
   "execution_count": 16,
   "metadata": {
    "collapsed": true
   },
   "outputs": [],
   "source": [
    "lstm_size = 256\n",
    "lstm_layers = 2\n",
    "batch_size = 128\n",
    "learning_rate = 0.001\n",
    "drop_out = 0.5\n",
    "epochs = 10\n",
    "embed_size = 128 \n",
    "evaluate_every = 100"
   ]
  },
  {
   "cell_type": "code",
   "execution_count": 4,
   "metadata": {
    "collapsed": true
   },
   "outputs": [],
   "source": [
    "with open(dataSrc, 'r') as f:\n",
    "    data = f.read()"
   ]
  },
  {
   "cell_type": "markdown",
   "metadata": {},
   "source": [
    "# Processing data"
   ]
  },
  {
   "cell_type": "code",
   "execution_count": 5,
   "metadata": {
    "collapsed": true
   },
   "outputs": [],
   "source": [
    "def getEmbeddingByCount():\n",
    "    from string import punctuation\n",
    "    all_text = ''.join([c for c in data if c not in punctuation])\n",
    "    all_text = all_text.lower()\n",
    "\n",
    "    # split label and text of each line.\n",
    "    messages = all_text.split('\\n')\n",
    "    messages = [x.split('\\t') for x in messages if len(x)>=1]\n",
    "    [labels, texts] = np.array([list(x) for x in zip(*messages)])\n",
    "\n",
    "    #change ham to 0 and spam to 1\n",
    "    labels = np.array([1 if each == 'spam' else 0 for each in labels])\n",
    "\n",
    "    all_text = ' '.join(texts)\n",
    "    words = all_text.split() #with duplicates\n",
    "    \n",
    "    from collections import Counter\n",
    "    counts = Counter(words)\n",
    "    vocab = sorted(counts, key=counts.get, reverse = True)\n",
    "    vocab_to_int = {word: ii for ii, word in enumerate(vocab)} #word to counts, dictionary\n",
    "    \n",
    "    \n",
    "    text_ints = []\n",
    "    for each in texts:\n",
    "        text_ints.append([vocab_to_int[word] for word in each.split()])\n",
    "        \n",
    "    text_lens = Counter([len(x) for x in text_ints])\n",
    "    non_zero_idx = [ii for ii, texts in enumerate(text_ints) if len(texts) != 0] # all data that len > 0\n",
    "    \n",
    "    text_ints = [text_ints[ii] for  ii in non_zero_idx] #all sentences\n",
    "    labels = np.array([labels[ii] for ii in non_zero_idx]) #0 for ham, 1 for spam\n",
    "    \n",
    "    seq_len = 170\n",
    "    features = np.zeros((len(text_ints), seq_len), dtype=int)\n",
    "    for i, row in enumerate(text_ints):\n",
    "        features[i, -len(row):] = np.array(row)[:seq_len]\n",
    "        \n",
    "    return features, labels, len(vocab_to_int)"
   ]
  },
  {
   "cell_type": "code",
   "execution_count": 6,
   "metadata": {
    "collapsed": true
   },
   "outputs": [],
   "source": [
    "features, labels, vocab_size = getEmbeddingByCount()#features here are sentences, represented by count of words."
   ]
  },
  {
   "cell_type": "code",
   "execution_count": 7,
   "metadata": {},
   "outputs": [
    {
     "name": "stdout",
     "output_type": "stream",
     "text": [
      "9661\n"
     ]
    }
   ],
   "source": [
    "print(vocab_size)"
   ]
  },
  {
   "cell_type": "markdown",
   "metadata": {},
   "source": [
    "# Seperate Training, Validation, Test set"
   ]
  },
  {
   "cell_type": "code",
   "execution_count": 8,
   "metadata": {},
   "outputs": [
    {
     "name": "stdout",
     "output_type": "stream",
     "text": [
      "\t\t\tFeature Shapes:\n",
      "Train set: \t\t(4457, 170) \n",
      "Validation set: \t(557, 170) \n",
      "Test set: \t\t(558, 170)\n"
     ]
    }
   ],
   "source": [
    "split_frac = 0.8\n",
    "split_idx = int(len(features)*0.8)\n",
    "train_x, val_x = features[:split_idx], features[split_idx:]\n",
    "train_y, val_y = labels[:split_idx], labels[split_idx:]\n",
    "\n",
    "test_idx = int(len(val_x)*0.5)\n",
    "val_x, test_x = val_x[:test_idx], val_x[test_idx:]\n",
    "val_y, test_y = val_y[:test_idx], val_y[test_idx:]\n",
    "\n",
    "print(\"\\t\\t\\tFeature Shapes:\")\n",
    "print(\"Train set: \\t\\t{}\".format(train_x.shape), \n",
    "      \"\\nValidation set: \\t{}\".format(val_x.shape),\n",
    "      \"\\nTest set: \\t\\t{}\".format(test_x.shape))"
   ]
  },
  {
   "cell_type": "markdown",
   "metadata": {},
   "source": [
    "# Building LSTM "
   ]
  },
  {
   "cell_type": "code",
   "execution_count": 9,
   "metadata": {
    "collapsed": true
   },
   "outputs": [],
   "source": [
    "# Create the graph object\n",
    "graph = tf.Graph()\n",
    "# Add nodes to the graph\n",
    "with graph.as_default():\n",
    "    inputs_ = tf.placeholder(tf.int32, [None, None], name='inputs')\n",
    "    labels_ = tf.placeholder(tf.int32, [None, None], name='labels')\n",
    "    keep_prob = tf.placeholder(tf.float32, name='keep_prob')"
   ]
  },
  {
   "cell_type": "code",
   "execution_count": 10,
   "metadata": {
    "collapsed": true
   },
   "outputs": [],
   "source": [
    "# Size of the embedding vectors (number of units in the embedding layer)\n",
    "with graph.as_default():\n",
    "    embedding = tf.Variable(tf.random_uniform((vocab_size, embed_size), -1, 1)) #generate random number from [-1, 1]\n",
    "    embed = tf.nn.embedding_lookup(embedding, inputs_)"
   ]
  },
  {
   "cell_type": "code",
   "execution_count": 11,
   "metadata": {
    "collapsed": true
   },
   "outputs": [],
   "source": [
    "#building cell\n",
    "with graph.as_default():\n",
    "    #define lstm cell\n",
    "    def lstm_cell():\n",
    "        cell = tf.contrib.rnn.LSTMCell(lstm_size, \n",
    "                                       initializer = tf.random_uniform_initializer(-0.1, 0.1, seed=2),\n",
    "                                       state_is_tuple = True,\n",
    "                                      reuse=tf.get_variable_scope().reuse)\n",
    "        drop = tf.contrib.rnn.DropoutWrapper(cell, output_keep_prob = keep_prob)\n",
    "        return drop\n",
    "    \n",
    "    stack_cells = tf.contrib.rnn.MultiRNNCell([lstm_cell() for _ in range(lstm_layers)])\n",
    "    \n",
    "    initial_state = state = stack_cells.zero_state(batch_size, tf.float32)"
   ]
  },
  {
   "cell_type": "code",
   "execution_count": 12,
   "metadata": {
    "collapsed": true
   },
   "outputs": [],
   "source": [
    "with graph.as_default():\n",
    "    outputs, final_state = tf.nn.dynamic_rnn(stack_cells, embed, initial_state=initial_state)\n",
    "    predictions = tf.contrib.layers.fully_connected(outputs[:, -1], 1, activation_fn=tf.sigmoid)\n",
    "    \n",
    "    cost = tf.losses.mean_squared_error(labels_, predictions)\n",
    "    optimizer = tf.train.AdamOptimizer(learning_rate).minimize(cost)"
   ]
  },
  {
   "cell_type": "code",
   "execution_count": 13,
   "metadata": {
    "collapsed": true
   },
   "outputs": [],
   "source": [
    "with graph.as_default():\n",
    "    correct_pred = tf.equal(tf.cast(tf.round(predictions), tf.int32), labels_)\n",
    "    accuracy = tf.reduce_mean(tf.cast(correct_pred, tf.float32))"
   ]
  },
  {
   "cell_type": "code",
   "execution_count": 14,
   "metadata": {
    "collapsed": true
   },
   "outputs": [],
   "source": [
    "def get_batches(x, y, batch_size=100):\n",
    "    \n",
    "    n_batches = len(x)//batch_size\n",
    "    x, y = x[:n_batches*batch_size], y[:n_batches*batch_size]\n",
    "    for ii in range(0, len(x), batch_size):\n",
    "        yield x[ii:ii+batch_size], y[ii:ii+batch_size]"
   ]
  },
  {
   "cell_type": "code",
   "execution_count": 18,
   "metadata": {},
   "outputs": [
    {
     "name": "stdout",
     "output_type": "stream",
     "text": [
      "Epoch: 0/10 Iteration: 5 Train loss: 0.114\n",
      "Epoch: 0/10 Iteration: 10 Train loss: 0.078\n",
      "Epoch: 0/10 Iteration: 15 Train loss: 0.041\n",
      "Epoch: 0/10 Iteration: 20 Train loss: 0.041\n",
      "Epoch: 0/10 Iteration: 25 Train loss: 0.023\n",
      "Epoch: 0/10 Iteration: 30 Train loss: 0.033\n",
      "Epoch: 1/10 Iteration: 35 Train loss: 0.028\n",
      "Epoch: 1/10 Iteration: 40 Train loss: 0.084\n",
      "Epoch: 1/10 Iteration: 45 Train loss: 0.014\n",
      "Epoch: 1/10 Iteration: 50 Train loss: 0.026\n",
      "Epoch: 1/10 Iteration: 55 Train loss: 0.018\n",
      "Epoch: 1/10 Iteration: 60 Train loss: 0.027\n",
      "Epoch: 1/10 Iteration: 65 Train loss: 0.020\n",
      "Epoch: 2/10 Iteration: 70 Train loss: 0.025\n",
      "Epoch: 2/10 Iteration: 75 Train loss: 0.014\n",
      "Epoch: 2/10 Iteration: 80 Train loss: 0.020\n",
      "Epoch: 2/10 Iteration: 85 Train loss: 0.009\n",
      "Epoch: 2/10 Iteration: 90 Train loss: 0.017\n",
      "Epoch: 2/10 Iteration: 95 Train loss: 0.022\n",
      "Epoch: 2/10 Iteration: 100 Train loss: 0.021\n",
      "Val acc: 0.949\n",
      "Epoch: 3/10 Iteration: 105 Train loss: 0.001\n",
      "Epoch: 3/10 Iteration: 110 Train loss: 0.008\n",
      "Epoch: 3/10 Iteration: 115 Train loss: 0.001\n",
      "Epoch: 3/10 Iteration: 120 Train loss: 0.019\n",
      "Epoch: 3/10 Iteration: 125 Train loss: 0.013\n",
      "Epoch: 3/10 Iteration: 130 Train loss: 0.014\n",
      "Epoch: 3/10 Iteration: 135 Train loss: 0.009\n",
      "Epoch: 4/10 Iteration: 140 Train loss: 0.001\n",
      "Epoch: 4/10 Iteration: 145 Train loss: 0.000\n",
      "Epoch: 4/10 Iteration: 150 Train loss: 0.006\n",
      "Epoch: 4/10 Iteration: 155 Train loss: 0.008\n",
      "Epoch: 4/10 Iteration: 160 Train loss: 0.000\n",
      "Epoch: 4/10 Iteration: 165 Train loss: 0.001\n",
      "Epoch: 4/10 Iteration: 170 Train loss: 0.002\n",
      "Epoch: 5/10 Iteration: 175 Train loss: 0.005\n",
      "Epoch: 5/10 Iteration: 180 Train loss: 0.007\n",
      "Epoch: 5/10 Iteration: 185 Train loss: 0.010\n",
      "Epoch: 5/10 Iteration: 190 Train loss: 0.000\n",
      "Epoch: 5/10 Iteration: 195 Train loss: 0.000\n",
      "Epoch: 5/10 Iteration: 200 Train loss: 0.010\n",
      "Val acc: 0.971\n",
      "Epoch: 6/10 Iteration: 205 Train loss: 0.008\n",
      "Epoch: 6/10 Iteration: 210 Train loss: 0.018\n",
      "Epoch: 6/10 Iteration: 215 Train loss: 0.003\n",
      "Epoch: 6/10 Iteration: 220 Train loss: 0.000\n",
      "Epoch: 6/10 Iteration: 225 Train loss: 0.008\n",
      "Epoch: 6/10 Iteration: 230 Train loss: 0.013\n",
      "Epoch: 6/10 Iteration: 235 Train loss: 0.009\n",
      "Epoch: 7/10 Iteration: 240 Train loss: 0.001\n",
      "Epoch: 7/10 Iteration: 245 Train loss: 0.009\n",
      "Epoch: 7/10 Iteration: 250 Train loss: 0.007\n",
      "Epoch: 7/10 Iteration: 255 Train loss: 0.007\n",
      "Epoch: 7/10 Iteration: 260 Train loss: 0.017\n",
      "Epoch: 7/10 Iteration: 265 Train loss: 0.016\n",
      "Epoch: 7/10 Iteration: 270 Train loss: 0.019\n",
      "Epoch: 8/10 Iteration: 275 Train loss: 0.001\n",
      "Epoch: 8/10 Iteration: 280 Train loss: 0.008\n",
      "Epoch: 8/10 Iteration: 285 Train loss: 0.000\n",
      "Epoch: 8/10 Iteration: 290 Train loss: 0.007\n",
      "Epoch: 8/10 Iteration: 295 Train loss: 0.008\n",
      "Epoch: 8/10 Iteration: 300 Train loss: 0.008\n",
      "Val acc: 0.971\n",
      "Epoch: 8/10 Iteration: 305 Train loss: 0.008\n",
      "Epoch: 9/10 Iteration: 310 Train loss: 0.000\n",
      "Epoch: 9/10 Iteration: 315 Train loss: 0.004\n",
      "Epoch: 9/10 Iteration: 320 Train loss: 0.002\n",
      "Epoch: 9/10 Iteration: 325 Train loss: 0.011\n",
      "Epoch: 9/10 Iteration: 330 Train loss: 0.002\n",
      "Epoch: 9/10 Iteration: 335 Train loss: 0.001\n",
      "Epoch: 9/10 Iteration: 340 Train loss: 0.001\n"
     ]
    }
   ],
   "source": [
    "with graph.as_default():\n",
    "    saver = tf.train.Saver()\n",
    "\n",
    "with tf.Session(graph=graph) as sess:\n",
    "    sess.run(tf.global_variables_initializer()) \n",
    "    iteration = 1\n",
    "    for e in range(epochs):\n",
    "        state = sess.run(initial_state)\n",
    "        \n",
    "        for ii, (x, y) in enumerate(get_batches(train_x, train_y, batch_size), 1):\n",
    "            feed = {inputs_: x,\n",
    "                    labels_: y[:, None],\n",
    "                    keep_prob: drop_out,\n",
    "                    initial_state: state}\n",
    "            loss, state, _ = sess.run([cost, final_state, optimizer], feed_dict=feed)\n",
    "            \n",
    "            if iteration%5==0:\n",
    "                print(\"Epoch: {}/{}\".format(e, epochs),\n",
    "                      \"Iteration: {}\".format(iteration),\n",
    "                      \"Train loss: {:.3f}\".format(loss))\n",
    "\n",
    "            if iteration%evaluate_every ==0:\n",
    "                val_acc = []\n",
    "                val_state = sess.run(stack_cells.zero_state(batch_size, tf.float32))\n",
    "                for x, y in get_batches(val_x, val_y, batch_size):\n",
    "                    feed = {inputs_: x,\n",
    "                            labels_: y[:, None],\n",
    "                            keep_prob: 1,\n",
    "                            initial_state: val_state}\n",
    "                    batch_acc, val_state = sess.run([accuracy, final_state], feed_dict=feed)\n",
    "                    val_acc.append(batch_acc)\n",
    "                print(\"Val acc: {:.3f}\".format(np.mean(val_acc)))\n",
    "            iteration +=1\n",
    "    saver.save(sess, saveDataPath + \"sentiment.ckpt\")"
   ]
  },
  {
   "cell_type": "code",
   "execution_count": 22,
   "metadata": {},
   "outputs": [
    {
     "name": "stdout",
     "output_type": "stream",
     "text": [
      "INFO:tensorflow:Restoring parameters from /Users/SamZhang/Documents/Capstone/Models/runs/lstmmodel/sentiment.ckpt\n"
     ]
    },
    {
     "name": "stderr",
     "output_type": "stream",
     "text": [
      "INFO:tensorflow:Restoring parameters from /Users/SamZhang/Documents/Capstone/Models/runs/lstmmodel/sentiment.ckpt\n"
     ]
    },
    {
     "name": "stdout",
     "output_type": "stream",
     "text": [
      "Test accuracy: 0.984\n"
     ]
    }
   ],
   "source": [
    "test_acc = []\n",
    "with tf.Session(graph=graph) as sess:\n",
    "    saver.restore(sess, tf.train.latest_checkpoint(saveDataPath))\n",
    "    test_state = sess.run(stack_cells.zero_state(batch_size, tf.float32))\n",
    "    for ii, (x, y) in enumerate(get_batches(test_x, test_y, batch_size), 1):\n",
    "        feed = {inputs_: x,\n",
    "                labels_: y[:, None],\n",
    "                keep_prob: 1,\n",
    "                initial_state: test_state}\n",
    "        batch_acc, test_state = sess.run([accuracy, final_state], feed_dict=feed)\n",
    "        test_acc.append(batch_acc)\n",
    "    print(\"Test accuracy: {:.3f}\".format(np.mean(test_acc)))"
   ]
  }
 ],
 "metadata": {
  "kernelspec": {
   "display_name": "Python 3",
   "language": "python",
   "name": "python3"
  },
  "language_info": {
   "codemirror_mode": {
    "name": "ipython",
    "version": 3
   },
   "file_extension": ".py",
   "mimetype": "text/x-python",
   "name": "python",
   "nbconvert_exporter": "python",
   "pygments_lexer": "ipython3",
   "version": "3.5.0"
  }
 },
 "nbformat": 4,
 "nbformat_minor": 2
}
